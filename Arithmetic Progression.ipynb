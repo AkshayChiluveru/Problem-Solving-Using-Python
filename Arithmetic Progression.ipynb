{
 "cells": [
  {
   "cell_type": "markdown",
   "id": "01f8725a",
   "metadata": {},
   "source": [
    "# Arithmetic Progression"
   ]
  },
  {
   "cell_type": "markdown",
   "id": "68e7c5cb",
   "metadata": {},
   "source": [
    "You are given first three entries of an arithmetic progression. You have to calculate the common difference and print it.\n"
   ]
  },
  {
   "cell_type": "code",
   "execution_count": 1,
   "id": "78dac052",
   "metadata": {},
   "outputs": [
    {
     "name": "stdout",
     "output_type": "stream",
     "text": [
      "5\n",
      "3\n",
      "1\n",
      "2\n"
     ]
    }
   ],
   "source": [
    "def diff(a,b,c):\n",
    "    diff1 = a-b\n",
    "    diff2 = b -c\n",
    "    \n",
    "    if diff1 == diff2:\n",
    "        return diff1\n",
    "    else:\n",
    "        return 0\n",
    "\n",
    "a = int(input())\n",
    "b = int(input())\n",
    "c = int(input())\n",
    "common = diff(a,b,c)\n",
    "print(common)"
   ]
  },
  {
   "cell_type": "code",
   "execution_count": null,
   "id": "bc6b7577",
   "metadata": {},
   "outputs": [],
   "source": []
  }
 ],
 "metadata": {
  "kernelspec": {
   "display_name": "Python 3 (ipykernel)",
   "language": "python",
   "name": "python3"
  },
  "language_info": {
   "codemirror_mode": {
    "name": "ipython",
    "version": 3
   },
   "file_extension": ".py",
   "mimetype": "text/x-python",
   "name": "python",
   "nbconvert_exporter": "python",
   "pygments_lexer": "ipython3",
   "version": "3.9.13"
  }
 },
 "nbformat": 4,
 "nbformat_minor": 5
}
