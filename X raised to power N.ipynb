{
 "cells": [
  {
   "cell_type": "markdown",
   "id": "ee5d5b14",
   "metadata": {},
   "source": [
    "# Find X raised to power N"
   ]
  },
  {
   "cell_type": "markdown",
   "id": "766f29c8",
   "metadata": {},
   "source": [
    "You are given two integers: X and N. You have to calculate X raised to power N and print it."
   ]
  },
  {
   "cell_type": "code",
   "execution_count": null,
   "id": "7c75a58b",
   "metadata": {},
   "outputs": [],
   "source": [
    "def pow(x,n):\n",
    "    res = x**n\n",
    "    return res\n",
    "\n",
    "x = int(input())\n",
    "n = int(input())\n"
   ]
  }
 ],
 "metadata": {
  "kernelspec": {
   "display_name": "Python 3 (ipykernel)",
   "language": "python",
   "name": "python3"
  },
  "language_info": {
   "codemirror_mode": {
    "name": "ipython",
    "version": 3
   },
   "file_extension": ".py",
   "mimetype": "text/x-python",
   "name": "python",
   "nbconvert_exporter": "python",
   "pygments_lexer": "ipython3",
   "version": "3.9.13"
  }
 },
 "nbformat": 4,
 "nbformat_minor": 5
}
