{
 "cells": [
  {
   "cell_type": "markdown",
   "id": "056983fc",
   "metadata": {},
   "source": [
    "# Find average Marks"
   ]
  },
  {
   "cell_type": "markdown",
   "id": "741a3f50",
   "metadata": {},
   "source": [
    "Write a program to input marks of three tests of a student (all integers). Then calculate and print the average of all test marks"
   ]
  },
  {
   "cell_type": "code",
   "execution_count": 1,
   "id": "0679bbd8",
   "metadata": {},
   "outputs": [
    {
     "name": "stdout",
     "output_type": "stream",
     "text": [
      "4\n",
      "4\n",
      "4\n",
      "4.0\n"
     ]
    }
   ],
   "source": [
    "def avg(a,b,c):\n",
    "    average = (a+b+c)/3\n",
    "    return average\n",
    "\n",
    "a= int(input())\n",
    "b = int(input())\n",
    "c = int(input())\n",
    "marks = avg(a,b,c)\n",
    "print(marks)"
   ]
  },
  {
   "cell_type": "code",
   "execution_count": null,
   "id": "b8d734fb",
   "metadata": {},
   "outputs": [],
   "source": []
  }
 ],
 "metadata": {
  "kernelspec": {
   "display_name": "Python 3 (ipykernel)",
   "language": "python",
   "name": "python3"
  },
  "language_info": {
   "codemirror_mode": {
    "name": "ipython",
    "version": 3
   },
   "file_extension": ".py",
   "mimetype": "text/x-python",
   "name": "python",
   "nbconvert_exporter": "python",
   "pygments_lexer": "ipython3",
   "version": "3.9.13"
  }
 },
 "nbformat": 4,
 "nbformat_minor": 5
}
