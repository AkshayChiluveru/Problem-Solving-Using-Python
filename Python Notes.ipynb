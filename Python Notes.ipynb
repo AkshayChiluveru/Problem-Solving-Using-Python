{
 "cells": [
  {
   "cell_type": "markdown",
   "id": "bce31485",
   "metadata": {},
   "source": [
    "- Python is a Interpreted,Object Oriented,High Level, OpenSource , Extensible libraries , Easy to Learn"
   ]
  },
  {
   "cell_type": "markdown",
   "id": "c5d95ab3",
   "metadata": {},
   "source": [
    " - Python is great for writing API's and interacting with data bases even google , Instagram, Quora uses python"
   ]
  },
  {
   "cell_type": "markdown",
   "id": "42cf9da6",
   "metadata": {},
   "source": [
    "- Python based libraries like Tensorflow, scikit Learn, Keras are widely used for Data Analysis and Machine Learning"
   ]
  },
  {
   "cell_type": "code",
   "execution_count": null,
   "id": "95d0c5ac",
   "metadata": {},
   "outputs": [],
   "source": []
  }
 ],
 "metadata": {
  "kernelspec": {
   "display_name": "Python 3 (ipykernel)",
   "language": "python",
   "name": "python3"
  },
  "language_info": {
   "codemirror_mode": {
    "name": "ipython",
    "version": 3
   },
   "file_extension": ".py",
   "mimetype": "text/x-python",
   "name": "python",
   "nbconvert_exporter": "python",
   "pygments_lexer": "ipython3",
   "version": "3.9.13"
  }
 },
 "nbformat": 4,
 "nbformat_minor": 5
}
